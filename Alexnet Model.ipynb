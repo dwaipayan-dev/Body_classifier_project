{
 "cells": [
  {
   "cell_type": "code",
   "execution_count": null,
   "metadata": {},
   "outputs": [],
   "source": [
    "def My_model(input_shape, n):#AlexNet Model Implementation\n",
    "    X_input = Input(input_shape)\n",
    "    X = Conv2D(96, (11, 11), strides = (4, 4), name = 'conv_0')(X)\n",
    "    X = BatchNormalization(axis = 3, name = 'bn_0')(X)\n",
    "    X = Activation('relu')(X)\n",
    "    X = MaxPooling2D((3, 3), strides = (2, 2), name = 'mp_0')(X)\n",
    "    X = Conv2D(256, (5, 5), strides = (1, 1), padding = 'same', name = 'conv_1')(X)\n",
    "    X = BatchNormalization(axis = 3, name = 'bn_1')(X)\n",
    "    X = Activation('relu')(X)\n",
    "    X = MaxPooling2D((3, 3), strides = (2, 2), name = 'mp_1')(X)\n",
    "    X = Conv2D(384, (3, 3), strides = (1, 1), padding = 'same', name = 'conv_2')(X)\n",
    "    X = BatchNormalization(axis = 3, name = 'bn_2')(X)\n",
    "    X = Activation('relu')(X)\n",
    "    X = Conv2D(384, (3, 3), strides = (1, 1), padding = 'same', name = 'conv_3')(X)\n",
    "    X = BatchNormalization(axis = 3, name = 'bn_3')(X)\n",
    "    X = Activation('relu')(X)\n",
    "    X = Conv2D(256, (3, 3), strides = (1, 1), padding = 'same', name = 'conv_4')(X)\n",
    "    X = BatchNormalization(axis = 3, name = 'bn_4')(X)\n",
    "    X = Activation('relu')(X)\n",
    "    X = MaxPooling2D((3, 3), strides = (2, 2), name = 'mp_2')(X)\n",
    "    X = Flatten()(X)\n",
    "    X = Dense(4096, activation = 'relu', name = 'fc_1')(X)\n",
    "    X = Dense(2048, activation = 'relu', name = 'fc_2')(X)\n",
    "    X = Dense(1024, activation = 'sigmoid', name = 'fc_3')(X)\n",
    "    X = Dense(n, activation = 'softmax', name = 'output_layer')(X)\n",
    "    model = Model(inputs = X_input, outputs = X, name = 'MyCNN')\n",
    "    return(model)"
   ]
  }
 ],
 "metadata": {
  "kernelspec": {
   "display_name": "Python 3",
   "language": "python",
   "name": "python3"
  },
  "language_info": {
   "codemirror_mode": {
    "name": "ipython",
    "version": 3
   },
   "file_extension": ".py",
   "mimetype": "text/x-python",
   "name": "python",
   "nbconvert_exporter": "python",
   "pygments_lexer": "ipython3",
   "version": "3.7.6"
  }
 },
 "nbformat": 4,
 "nbformat_minor": 2
}
